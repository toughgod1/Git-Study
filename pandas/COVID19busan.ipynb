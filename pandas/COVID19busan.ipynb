{
 "cells": [
  {
   "cell_type": "code",
   "execution_count": 4,
   "metadata": {},
   "outputs": [],
   "source": [
    "import pandas as pd\n",
    "import numpy as np"
   ]
  },
  {
   "cell_type": "code",
   "execution_count": 9,
   "metadata": {},
   "outputs": [
    {
     "data": {
      "text/plain": [
       "[   지역  중구   서구   동구  영도구  부산진구  동래구   남구   북구  해운대구  사하구  금정구  강서구  연제구  수영구  \\\n",
       " 0  금일   -    -    -    2     6    3    -    -     5    4    3    1    -    1   \n",
       " 1  누적  71  234  136  216   480  345  285  227   380  494  229  146  240  173   \n",
       " \n",
       "    사상구 기장군   기타  \n",
       " 0    6   -    2  \n",
       " 1  269  97  702  ,\n",
       "    지역  중구   서구   동구  영도구  부산진구  동래구   남구   북구  해운대구  사하구  금정구  강서구  연제구  수영구  \\\n",
       " 0  금일   -    -    -    2     6    3    -    -     5    4    3    1    -    1   \n",
       " 1  누적  71  234  136  216   480  345  285  227   380  494  229  146  240  173   \n",
       " \n",
       "    사상구 기장군   기타  \n",
       " 0    6   -    2  \n",
       " 1  269  97  702  ,\n",
       "    지역  중구   서구   동구  영도구  부산진구  동래구   남구   북구  해운대구  사하구  금정구  강서구  연제구  수영구  \\\n",
       " 0  금일   -    -    -    2     6    3    -    -     5    4    3    1    -    1   \n",
       " 1  누적  71  234  136  216   480  345  285  227   380  494  229  146  240  173   \n",
       " \n",
       "    사상구 기장군   기타  \n",
       " 0    6   -    2  \n",
       " 1  269  97  702  ,\n",
       "     시도   시구군  장소유형          상호명  \\\n",
       " 0   부산    북구   음식점        경동영양탕   \n",
       " 1   부산   사상구   음식점        하동재첩국   \n",
       " 2   부산    중구   pc방   쓰리팝pc cafe   \n",
       " 3   부산  부산진구   목욕탕      백천탕(남탕)   \n",
       " 4   부산   사하구    택시          NaN   \n",
       " ..  ..   ...   ...          ...   \n",
       " 57  부산   NaN    택시          NaN   \n",
       " 58  부산  부산진구  단란주점       태양노래주점   \n",
       " 59  부산  부산진구    택시           택시   \n",
       " 60  부산   기장군   미용실         쉬즈헤어   \n",
       " 61  부산   사하구    기타  바른법연구원 사하지사   \n",
       " \n",
       "                                             주소(도로명주소)  \\\n",
       " 0                              북구 낙동대로 1776번길 72(구포동)   \n",
       " 1                                사상구 가야대로 290-12(주례동)   \n",
       " 2                             중구 비프광장로 28, 2층(남포동 5가)   \n",
       " 3                                      부산진구 동평로95번길 4   \n",
       " 4   신평시장 인근-> 사하구 선별진료소 앞(하신번영로127) 사하구 선별진료소앞(하신번...   \n",
       " ..                                                ...   \n",
       " 57                                  서구 충무동 사거리->서구보건소   \n",
       " 58                            부산진구 서면문화로 6, 지하1층(부전동)   \n",
       " 59                              범내골 지하철역 -> 당평초등학교 인근   \n",
       " 60                               기장읍 차성로344번길 22(동부리)   \n",
       " 61                                  사하구 하신중앙로 333(2층)   \n",
       " \n",
       "                                                  노출일시  소독여부  \n",
       " 0                 2021.4.10.(토) 10:59~11:35북구보건소 상담바람  소독완료  \n",
       " 1                           2021.04.13(화) 11:53-12:07  소독완료  \n",
       " 2                           2021.04.10(금) 12:40-22:21  소독완료  \n",
       " 3                           2021.04.10(토) 10:37-12:45  소독완료  \n",
       " 4   2021.04.16(금) 15:10-15:202021.04.16(금) 15:45-1...   NaN  \n",
       " ..                                                ...   ...  \n",
       " 57                          2021.04.09(금) 10:45-11:10   NaN  \n",
       " 58                           2021.4.6.(화) 18:30~24:00  소독완료  \n",
       " 59  2021.4.7.(수) 17:30~17:456,300원 현금수납한 택시기사님부산진구...     -  \n",
       " 60                                       2021.4.6.(화)  소독완료  \n",
       " 61                                       2021.4.7.(수)  소독완료  \n",
       " \n",
       " [62 rows x 7 columns]]"
      ]
     },
     "execution_count": 9,
     "metadata": {},
     "output_type": "execute_result"
    }
   ],
   "source": [
    "data = pd.read_html('https://www.busan.go.kr/covid19/Corona19.do')\n",
    "data"
   ]
  },
  {
   "cell_type": "code",
   "execution_count": null,
   "metadata": {},
   "outputs": [],
   "source": []
  },
  {
   "cell_type": "code",
   "execution_count": null,
   "metadata": {},
   "outputs": [],
   "source": []
  },
  {
   "cell_type": "code",
   "execution_count": null,
   "metadata": {},
   "outputs": [],
   "source": []
  },
  {
   "cell_type": "code",
   "execution_count": null,
   "metadata": {},
   "outputs": [],
   "source": []
  },
  {
   "cell_type": "code",
   "execution_count": null,
   "metadata": {},
   "outputs": [],
   "source": []
  },
  {
   "cell_type": "code",
   "execution_count": null,
   "metadata": {},
   "outputs": [],
   "source": []
  },
  {
   "cell_type": "code",
   "execution_count": null,
   "metadata": {},
   "outputs": [],
   "source": []
  }
 ],
 "metadata": {
  "kernelspec": {
   "display_name": "Python 3",
   "language": "python",
   "name": "python3"
  },
  "language_info": {
   "codemirror_mode": {
    "name": "ipython",
    "version": 3
   },
   "file_extension": ".py",
   "mimetype": "text/x-python",
   "name": "python",
   "nbconvert_exporter": "python",
   "pygments_lexer": "ipython3",
   "version": "3.8.5"
  }
 },
 "nbformat": 4,
 "nbformat_minor": 4
}
