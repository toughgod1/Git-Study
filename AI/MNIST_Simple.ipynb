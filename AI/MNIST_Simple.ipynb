{
 "cells": [
  {
   "cell_type": "code",
   "execution_count": 1,
   "id": "c38031ff",
   "metadata": {},
   "outputs": [],
   "source": [
    "from tensorflow.keras.datasets import mnist\n",
    "#from tensorflow.keras.utils import np_utils #아래 표현으로 변경되었습니다.\n",
    "from tensorflow.python.keras.utils.np_utils import to_categorical\n",
    "from tensorflow.keras.models import Sequential\n",
    "from tensorflow.keras.layers import Dense\n",
    "from tensorflow.keras.callbacks import ModelCheckpoint,EarlyStopping\n",
    "\n",
    "import matplotlib.pyplot as plt\n",
    "import numpy as np\n",
    "import os\n",
    "import tensorflow as tf"
   ]
  },
  {
   "cell_type": "code",
   "execution_count": 2,
   "id": "f1412778",
   "metadata": {},
   "outputs": [],
   "source": [
    "seed = 0\n",
    "np.random.seed(seed)\n",
    "tf.random.set_seed(3)"
   ]
  },
  {
   "cell_type": "code",
   "execution_count": 3,
   "id": "eaf507b4",
   "metadata": {},
   "outputs": [],
   "source": [
    "# MNIST 데이터 불러오기\n",
    "(X_train, Y_train), (X_test, Y_test) = mnist.load_data()\n",
    "\n",
    "X_train = X_train.reshape(X_train.shape[0], 784).astype('float32') / 255\n",
    "X_test = X_test.reshape(X_test.shape[0], 784).astype('float32') / 255\n",
    "\n",
    "Y_train = to_categorical(Y_train, 10)\n",
    "Y_test = to_categorical(Y_test, 10)"
   ]
  },
  {
   "cell_type": "code",
   "execution_count": 4,
   "id": "2e9326ac",
   "metadata": {},
   "outputs": [],
   "source": [
    "\n",
    "# 모델 프레임 설정\n",
    "model = Sequential()\n",
    "model.add(Dense(512, input_dim=784, activation='relu'))\n",
    "model.add(Dense(10, activation='softmax'))"
   ]
  },
  {
   "cell_type": "code",
   "execution_count": 5,
   "id": "23c99ac6",
   "metadata": {},
   "outputs": [],
   "source": [
    "# 모델 실행 환경 설정\n",
    "model.compile(loss='categorical_crossentropy',\n",
    "              optimizer='adam',\n",
    "              metrics=['accuracy'])"
   ]
  },
  {
   "cell_type": "code",
   "execution_count": 6,
   "id": "73b73313",
   "metadata": {},
   "outputs": [],
   "source": [
    "MODEL_DIR = './model/'\n",
    "if not os.path.exists(MODEL_DIR):\n",
    "    os.mkdir(MODEL_DIR)\n",
    "\n",
    "modelpath=\"./model/{epoch:02d}-{val_loss:.4f}.hdf5\"\n",
    "checkpointer = ModelCheckpoint(filepath=modelpath, monitor='val_loss', verbose=1, save_best_only=True)\n",
    "early_stopping_callback = EarlyStopping(monitor='val_loss', patience=10)"
   ]
  },
  {
   "cell_type": "code",
   "execution_count": 7,
   "id": "ccfb55f0",
   "metadata": {},
   "outputs": [
    {
     "name": "stdout",
     "output_type": "stream",
     "text": [
      "\n",
      "Epoch 00001: val_loss improved from inf to 0.15736, saving model to ./model/01-0.1574.hdf5\n",
      "\n",
      "Epoch 00002: val_loss improved from 0.15736 to 0.10265, saving model to ./model/02-0.1026.hdf5\n",
      "\n",
      "Epoch 00003: val_loss improved from 0.10265 to 0.08382, saving model to ./model/03-0.0838.hdf5\n",
      "\n",
      "Epoch 00004: val_loss improved from 0.08382 to 0.07414, saving model to ./model/04-0.0741.hdf5\n",
      "\n",
      "Epoch 00005: val_loss improved from 0.07414 to 0.06524, saving model to ./model/05-0.0652.hdf5\n",
      "\n",
      "Epoch 00006: val_loss did not improve from 0.06524\n",
      "\n",
      "Epoch 00007: val_loss did not improve from 0.06524\n",
      "\n",
      "Epoch 00008: val_loss improved from 0.06524 to 0.06136, saving model to ./model/08-0.0614.hdf5\n",
      "\n",
      "Epoch 00009: val_loss did not improve from 0.06136\n",
      "\n",
      "Epoch 00010: val_loss did not improve from 0.06136\n",
      "\n",
      "Epoch 00011: val_loss improved from 0.06136 to 0.06106, saving model to ./model/11-0.0611.hdf5\n",
      "\n",
      "Epoch 00012: val_loss did not improve from 0.06106\n",
      "\n",
      "Epoch 00013: val_loss did not improve from 0.06106\n",
      "\n",
      "Epoch 00014: val_loss improved from 0.06106 to 0.06090, saving model to ./model/14-0.0609.hdf5\n",
      "\n",
      "Epoch 00015: val_loss did not improve from 0.06090\n",
      "\n",
      "Epoch 00016: val_loss did not improve from 0.06090\n",
      "\n",
      "Epoch 00017: val_loss did not improve from 0.06090\n",
      "\n",
      "Epoch 00018: val_loss did not improve from 0.06090\n",
      "\n",
      "Epoch 00019: val_loss did not improve from 0.06090\n",
      "\n",
      "Epoch 00020: val_loss did not improve from 0.06090\n",
      "\n",
      "Epoch 00021: val_loss did not improve from 0.06090\n",
      "\n",
      "Epoch 00022: val_loss did not improve from 0.06090\n",
      "\n",
      "Epoch 00023: val_loss did not improve from 0.06090\n",
      "\n",
      "Epoch 00024: val_loss did not improve from 0.06090\n"
     ]
    }
   ],
   "source": [
    "history = model.fit(X_train, Y_train, validation_data=(X_test, Y_test), epochs=30, batch_size=200, verbose=0, callbacks=[early_stopping_callback,checkpointer])"
   ]
  },
  {
   "cell_type": "code",
   "execution_count": 8,
   "id": "aafca28f",
   "metadata": {},
   "outputs": [
    {
     "name": "stdout",
     "output_type": "stream",
     "text": [
      "10000/10000 [==============================] - 1s 76us/sample - loss: 0.0657 - accuracy: 0.9835\n",
      "\n",
      " Test Accuracy: 0.9835\n"
     ]
    }
   ],
   "source": [
    "# 테스트 정확도 출력\n",
    "print(\"\\n Test Accuracy: %.4f\" % (model.evaluate(X_test, Y_test)[1]))\n",
    "\n",
    "# 테스트 셋의 오차\n",
    "y_vloss = history.history['val_loss']\n",
    "\n",
    "# 학습셋의 오차\n",
    "y_loss = history.history['loss']"
   ]
  },
  {
   "cell_type": "code",
   "execution_count": 9,
   "id": "2ba222b3",
   "metadata": {
    "scrolled": true
   },
   "outputs": [
    {
     "data": {
      "image/png": "[encoded data removed]",
      "text/plain": [
       "<Figure size 432x288 with 1 Axes>"
      ]
     },
     "metadata": {
      "needs_background": "light"
     },
     "output_type": "display_data"
    }
   ],
   "source": [
    "# 그래프로 표현\n",
    "x_len = np.arange(len(y_loss))\n",
    "plt.plot(x_len, y_vloss, marker='.', c=\"red\", label='Testset_loss')\n",
    "plt.plot(x_len, y_loss, marker='.', c=\"blue\", label='Trainset_loss')\n",
    "\n",
    "# 그래프에 그리드를 주고 레이블을 표시\n",
    "plt.legend(loc='upper right')\n",
    "# plt.axis([0, 20, 0, 0.35])\n",
    "plt.grid()\n",
    "plt.xlabel('epoch')\n",
    "plt.ylabel('loss')\n",
    "plt.show()"
   ]
  },
  {
   "cell_type": "code",
   "execution_count": null,
   "id": "13e1263e",
   "metadata": {},
   "outputs": [],
   "source": []
  }
 ],
 "metadata": {
  "kernelspec": {
   "display_name": "Python 3",
   "language": "python",
   "name": "python3"
  },
  "language_info": {
   "codemirror_mode": {
    "name": "ipython",
    "version": 3
   },
   "file_extension": ".py",
   "mimetype": "text/x-python",
   "name": "python",
   "nbconvert_exporter": "python",
   "pygments_lexer": "ipython3",
   "version": "3.7.10"
  }
 },
 "nbformat": 4,
 "nbformat_minor": 5
}
