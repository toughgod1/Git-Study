{
 "cells": [
  {
   "cell_type": "code",
   "execution_count": 1,
   "id": "c4b13e55",
   "metadata": {},
   "outputs": [],
   "source": [
    "from tensorflow.keras.datasets import mnist\n",
    "from tensorflow.python.keras.utils.np_utils import to_categorical\n",
    "from tensorflow.keras.models import Sequential\n",
    "from tensorflow.keras.models import load_model\n",
    "from tensorflow.keras.layers import Dense, Dropout, Flatten, Conv2D, MaxPooling2D\n",
    "from tensorflow.keras.callbacks import ModelCheckpoint,EarlyStopping\n",
    "\n",
    "import matplotlib.pyplot as plt\n",
    "import numpy as np\n",
    "import os\n",
    "import tensorflow as tf\n",
    "import cv2\n",
    "\n",
    "\n",
    "# seed = 0\n",
    "# np.random.seed(seed)\n",
    "# tf.random.set_seed(3)\n",
    "\n",
    "# 데이터 불러오기\n",
    "#총7만개 자료, 6만개 Train데이터 1만개 Test데이터"
   ]
  },
  {
   "cell_type": "code",
   "execution_count": null,
   "id": "e9c9971d",
   "metadata": {},
   "outputs": [],
   "source": [
    "#데이터 불러오기\n",
    "model = load_model(\"./cnnapp/dataset.hdf5\")"
   ]
  }
 ],
 "metadata": {
  "kernelspec": {
   "display_name": "Python 3",
   "language": "python",
   "name": "python3"
  },
  "language_info": {
   "codemirror_mode": {
    "name": "ipython",
    "version": 3
   },
   "file_extension": ".py",
   "mimetype": "text/x-python",
   "name": "python",
   "nbconvert_exporter": "python",
   "pygments_lexer": "ipython3",
   "version": "3.7.10"
  }
 },
 "nbformat": 4,
 "nbformat_minor": 5
}
