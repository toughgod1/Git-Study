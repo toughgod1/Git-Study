{
 "cells": [
  {
   "cell_type": "code",
   "execution_count": 1,
   "id": "3194afaf",
   "metadata": {},
   "outputs": [
    {
     "name": "stderr",
     "output_type": "stream",
     "text": [
      "Using TensorFlow backend.\n"
     ]
    }
   ],
   "source": [
    "from keras.datasets import mnist\n",
    "from keras.utils import np_utils\n",
    "from keras.models import Sequential\n",
    "from keras.layers import Dense, Dropout, Flatten, Conv2D, MaxPooling2D\n",
    "from keras.callbacks import ModelCheckpoint, EarlyStopping\n",
    "\n",
    "import matplotlib.pyplot as plt\n",
    "import numpy\n",
    "import os\n",
    "import tensorflow as tf"
   ]
  },
  {
   "cell_type": "code",
   "execution_count": 2,
   "id": "6bf037d5",
   "metadata": {},
   "outputs": [],
   "source": [
    "seed = 0\n",
    "numpy.random.seed(seed)\n",
    "tf.random.set_seed(3)"
   ]
  },
  {
   "cell_type": "code",
   "execution_count": 3,
   "id": "5ebd5180",
   "metadata": {},
   "outputs": [],
   "source": [
    "(X_train, Y_train), (X_test, Y_test) = mnist.load_data()\n",
    "X_train = X_train.reshape(X_train.shape[0], 28, 28, 1).astype('float32') / 255\n",
    "X_test = X_test.reshape(X_test.shape[0], 28, 28, 1).astype('float32') / 255\n",
    "Y_train = np_utils.to_categorical(Y_train)\n",
    "Y_test = np_utils.to_categorical(Y_test)"
   ]
  },
  {
   "cell_type": "code",
   "execution_count": 4,
   "id": "5921c058",
   "metadata": {},
   "outputs": [],
   "source": [
    "model = Sequential()\n",
    "model.add(Conv2D(32, kernel_size=(3,3), input_shape=(28, 28, 1), activation='relu'))\n",
    "model.add(Conv2D(64, (3,3), activation='relu'))\n",
    "model.add(MaxPooling2D(pool_size=2))\n",
    "model.add(Dropout(0.25))\n",
    "model.add(Flatten())\n",
    "model.add(Dense(128, activation='relu'))\n",
    "model.add(Dropout(0.5))\n",
    "model.add(Dense(10, activation='softmax'))"
   ]
  },
  {
   "cell_type": "code",
   "execution_count": 5,
   "id": "d54a7aca",
   "metadata": {},
   "outputs": [],
   "source": [
    "model.compile(loss='categorical_crossentropy',\n",
    "             optimizer='adam',\n",
    "             metrics=['accuracy'])"
   ]
  },
  {
   "cell_type": "code",
   "execution_count": 6,
   "id": "5534e77c",
   "metadata": {},
   "outputs": [],
   "source": [
    "MODEL_DIR = './model/'\n",
    "if not os.path.exists(MODEL_DIR):\n",
    "    os.mkdir(MODEL_DIR)\n",
    "    \n",
    "modelpath=\"./model/{epoch:02d}={val_loss:.4f}.hdf5\"\n",
    "checkpointer = ModelCheckpoint(filepath=modelpath, monitor='val_loss', verbose=1, save_best_only=True)\n",
    "early_stopping_callback = EarlyStopping(monitor='val_loss', patience=10)"
   ]
  },
  {
   "cell_type": "code",
   "execution_count": 7,
   "id": "b5a9c120",
   "metadata": {},
   "outputs": [
    {
     "name": "stdout",
     "output_type": "stream",
     "text": [
      "\n",
      "Epoch 00001: val_loss improved from inf to 0.05628, saving model to ./model/01=0.0563.hdf5\n",
      "\n",
      "Epoch 00002: val_loss improved from 0.05628 to 0.04058, saving model to ./model/02=0.0406.hdf5\n",
      "\n",
      "Epoch 00003: val_loss improved from 0.04058 to 0.03349, saving model to ./model/03=0.0335.hdf5\n",
      "\n",
      "Epoch 00004: val_loss did not improve from 0.03349\n",
      "\n",
      "Epoch 00005: val_loss improved from 0.03349 to 0.03262, saving model to ./model/05=0.0326.hdf5\n",
      "\n",
      "Epoch 00006: val_loss improved from 0.03262 to 0.02941, saving model to ./model/06=0.0294.hdf5\n",
      "\n",
      "Epoch 00007: val_loss improved from 0.02941 to 0.02909, saving model to ./model/07=0.0291.hdf5\n",
      "\n",
      "Epoch 00008: val_loss did not improve from 0.02909\n",
      "\n",
      "Epoch 00009: val_loss improved from 0.02909 to 0.02882, saving model to ./model/09=0.0288.hdf5\n",
      "\n",
      "Epoch 00010: val_loss did not improve from 0.02882\n",
      "\n",
      "Epoch 00011: val_loss improved from 0.02882 to 0.02617, saving model to ./model/11=0.0262.hdf5\n",
      "\n",
      "Epoch 00012: val_loss improved from 0.02617 to 0.02457, saving model to ./model/12=0.0246.hdf5\n",
      "\n",
      "Epoch 00013: val_loss did not improve from 0.02457\n",
      "\n",
      "Epoch 00014: val_loss did not improve from 0.02457\n",
      "\n",
      "Epoch 00015: val_loss did not improve from 0.02457\n",
      "\n",
      "Epoch 00016: val_loss did not improve from 0.02457\n",
      "\n",
      "Epoch 00017: val_loss did not improve from 0.02457\n",
      "\n",
      "Epoch 00018: val_loss did not improve from 0.02457\n",
      "\n",
      "Epoch 00019: val_loss did not improve from 0.02457\n",
      "\n",
      "Epoch 00020: val_loss improved from 0.02457 to 0.02391, saving model to ./model/20=0.0239.hdf5\n",
      "\n",
      "Epoch 00021: val_loss did not improve from 0.02391\n",
      "\n",
      "Epoch 00022: val_loss did not improve from 0.02391\n",
      "\n",
      "Epoch 00023: val_loss did not improve from 0.02391\n",
      "\n",
      "Epoch 00024: val_loss did not improve from 0.02391\n",
      "\n",
      "Epoch 00025: val_loss did not improve from 0.02391\n",
      "\n",
      "Epoch 00026: val_loss did not improve from 0.02391\n",
      "\n",
      "Epoch 00027: val_loss did not improve from 0.02391\n",
      "\n",
      "Epoch 00028: val_loss did not improve from 0.02391\n",
      "\n",
      "Epoch 00029: val_loss did not improve from 0.02391\n",
      "\n",
      "Epoch 00030: val_loss did not improve from 0.02391\n"
     ]
    }
   ],
   "source": [
    "history = model.fit(X_train, Y_train, validation_data=(X_test, Y_test), epochs=30, batch_size=200, verbose=0, callbacks=[early_stopping_callback, checkpointer])"
   ]
  },
  {
   "cell_type": "code",
   "execution_count": 8,
   "id": "9ec625cd",
   "metadata": {},
   "outputs": [
    {
     "name": "stdout",
     "output_type": "stream",
     "text": [
      "10000/10000 [==============================] - 4s 392us/step\n",
      "\n",
      " Test Accuracy: 0.9937\n"
     ]
    }
   ],
   "source": [
    "print(\"\\n Test Accuracy: %.4f\" % (model.evaluate(X_test, Y_test)[1]))"
   ]
  },
  {
   "cell_type": "code",
   "execution_count": 9,
   "id": "8f424c1e",
   "metadata": {},
   "outputs": [],
   "source": [
    "y_vloss = history.history['val_loss']\n",
    "y_loss=history.history['loss']"
   ]
  },
  {
   "cell_type": "code",
   "execution_count": 10,
   "id": "e3013bcc",
   "metadata": {},
   "outputs": [
    {
     "data": {
      "image/png": "[encoded data removed]",
      "text/plain": [
       "<Figure size 864x864 with 1 Axes>"
      ]
     },
     "metadata": {
      "needs_background": "light"
     },
     "output_type": "display_data"
    }
   ],
   "source": [
    "x_len = numpy.arange(len(y_loss))\n",
    "plt.figure(figsize=(12, 12))\n",
    "plt.plot(x_len, y_vloss, marker='.', c=\"red\", label='Testset_loss')\n",
    "plt.plot(x_len, y_loss, marker='.', c=\"blue\", label='Trainset_loss')\n",
    "\n",
    "plt.legend(loc='upper right')\n",
    "plt.grid()\n",
    "plt.xlabel('epoch')\n",
    "plt.ylabel('loss')\n",
    "plt.show()"
   ]
  },
  {
   "cell_type": "code",
   "execution_count": null,
   "id": "16c51784",
   "metadata": {},
   "outputs": [],
   "source": []
  },
  {
   "cell_type": "code",
   "execution_count": null,
   "id": "f6e7790e",
   "metadata": {},
   "outputs": [],
   "source": []
  },
  {
   "cell_type": "code",
   "execution_count": null,
   "id": "c2122e21",
   "metadata": {},
   "outputs": [],
   "source": []
  },
  {
   "cell_type": "code",
   "execution_count": null,
   "id": "98c88b38",
   "metadata": {},
   "outputs": [],
   "source": []
  }
 ],
 "metadata": {
  "kernelspec": {
   "display_name": "Python 3",
   "language": "python",
   "name": "python3"
  },
  "language_info": {
   "codemirror_mode": {
    "name": "ipython",
    "version": 3
   },
   "file_extension": ".py",
   "mimetype": "text/x-python",
   "name": "python",
   "nbconvert_exporter": "python",
   "pygments_lexer": "ipython3",
   "version": "3.7.10"
  }
 },
 "nbformat": 4,
 "nbformat_minor": 5
}
