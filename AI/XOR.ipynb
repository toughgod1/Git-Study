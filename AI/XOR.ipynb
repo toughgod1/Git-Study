{
 "cells": [
  {
   "cell_type": "code",
   "execution_count": 1,
   "id": "f60fff39",
   "metadata": {},
   "outputs": [],
   "source": [
    "import numpy as np"
   ]
  },
  {
   "cell_type": "code",
   "execution_count": 3,
   "id": "a100a8ce",
   "metadata": {},
   "outputs": [],
   "source": [
    "w11 = np.array([-2, -2])\n",
    "w12 = np.array([2, 2])\n",
    "w2 = np.array([1, 1])\n",
    "b1 = 3\n",
    "b2 = -1\n",
    "b3 = -1"
   ]
  },
  {
   "cell_type": "code",
   "execution_count": 4,
   "id": "bdc3d5f7",
   "metadata": {},
   "outputs": [],
   "source": [
    "def MLP(x, w, b):\n",
    "    y = np.sum(w * x) + b\n",
    "    if y <= 0:\n",
    "        return 0\n",
    "    else:\n",
    "        return 1\n",
    "    "
   ]
  },
  {
   "cell_type": "code",
   "execution_count": 15,
   "id": "9fada4a4",
   "metadata": {},
   "outputs": [],
   "source": [
    "def NAND(x1, x2):\n",
    "    return MLP(np.array([x1, x2]), w11, b1)"
   ]
  },
  {
   "cell_type": "code",
   "execution_count": 16,
   "id": "985435fc",
   "metadata": {},
   "outputs": [],
   "source": [
    "def OR(x1, x2):\n",
    "    return MLP(np.array([x1, x2]), w12, b2)"
   ]
  },
  {
   "cell_type": "code",
   "execution_count": 14,
   "id": "148cb219",
   "metadata": {},
   "outputs": [],
   "source": [
    "def AND(x1, x2):\n",
    "    return MLP(np.array([x1, x2]), w2, b3)"
   ]
  },
  {
   "cell_type": "code",
   "execution_count": 17,
   "id": "0905aba9",
   "metadata": {},
   "outputs": [],
   "source": [
    "def XOR(x1, x2):\n",
    "    return AND(NAND(x1, x2), OR(x1, x2))"
   ]
  },
  {
   "cell_type": "code",
   "execution_count": 18,
   "id": "d01a5102",
   "metadata": {},
   "outputs": [
    {
     "name": "stdout",
     "output_type": "stream",
     "text": [
      "### XOR ###\n",
      "입력 값:(0, 0) 출력 값: 0\n",
      "입력 값:(1, 0) 출력 값: 1\n",
      "입력 값:(0, 1) 출력 값: 1\n",
      "입력 값:(1, 1) 출력 값: 0\n"
     ]
    }
   ],
   "source": [
    "print(\"### XOR ###\")\n",
    "for x in [(0,0), (1,0), (0,1), (1,1)]:\n",
    "    y = XOR(x[0], x[1])\n",
    "    print(\"입력 값:\" + str(x) + \" 출력 값: \" + str(y))"
   ]
  },
  {
   "cell_type": "code",
   "execution_count": null,
   "id": "1a8cae34",
   "metadata": {},
   "outputs": [],
   "source": []
  }
 ],
 "metadata": {
  "kernelspec": {
   "display_name": "Python 3",
   "language": "python",
   "name": "python3"
  },
  "language_info": {
   "codemirror_mode": {
    "name": "ipython",
    "version": 3
   },
   "file_extension": ".py",
   "mimetype": "text/x-python",
   "name": "python",
   "nbconvert_exporter": "python",
   "pygments_lexer": "ipython3",
   "version": "3.7.10"
  }
 },
 "nbformat": 4,
 "nbformat_minor": 5
}
