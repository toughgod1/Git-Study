{
 "cells": [
  {
   "cell_type": "code",
   "execution_count": 1,
   "id": "17f14fcf",
   "metadata": {},
   "outputs": [],
   "source": [
    "from tensorflow.keras.datasets import mnist\n",
    "from tensorflow.python.keras.utils.np_utils import to_categorical\n",
    "from tensorflow.keras.models import Sequential, load_model\n",
    "from tensorflow.keras.layers import Dense, Dropout, Flatten, Conv2D, MaxPooling2D\n",
    "from tensorflow.keras.callbacks import ModelCheckpoint, EarlyStopping\n",
    "\n",
    "import matplotlib.pyplot as plt\n",
    "import numpy as np\n",
    "import os\n",
    "import tensorflow as tf\n",
    "import cv2\n",
    "\n",
    "seed = 0\n",
    "np.random.seed(seed)\n",
    "tf.random.set_seed(3)"
   ]
  },
  {
   "cell_type": "code",
   "execution_count": 2,
   "id": "aad6369d",
   "metadata": {},
   "outputs": [],
   "source": [
    "(X_train, Y_train), (X_test, Y_test) = mnist.load_data()\n",
    "X_train = X_train.reshape(X_train.shape[0], 28, 28, 1).astype('float32') / 255\n",
    "X_test = X_test.reshape(X_test.shape[0], 28, 28, 1).astype('float32') / 255\n",
    "Y_train = to_categorical(Y_train)\n",
    "Y_test = to_categorical(Y_test)"
   ]
  },
  {
   "cell_type": "code",
   "execution_count": 3,
   "id": "fc715d55",
   "metadata": {},
   "outputs": [],
   "source": [
    "# (origin_x_train, origin_y_train), (origin_x_test, origin_y_test) = mnist.load_data()"
   ]
  },
  {
   "cell_type": "code",
   "execution_count": 4,
   "id": "e83dd81e",
   "metadata": {},
   "outputs": [],
   "source": [
    "model = load_model('./cnnapp/dataset.hdf5')"
   ]
  },
  {
   "cell_type": "code",
   "execution_count": 5,
   "id": "091e06b7",
   "metadata": {},
   "outputs": [
    {
     "name": "stdout",
     "output_type": "stream",
     "text": [
      "10000/10000 [==============================] - 4s 450us/sample - loss: 0.0239 - accuracy: 0.9940\n",
      "\n",
      " Test Accuracy: 0.9940\n"
     ]
    }
   ],
   "source": [
    "print(\"\\n Test Accuracy: %.4f\" % (model.evaluate(X_test, Y_test)[1]))"
   ]
  },
  {
   "cell_type": "code",
   "execution_count": 6,
   "id": "ce0ea0a9",
   "metadata": {},
   "outputs": [
    {
     "data": {
      "text/plain": [
       "array([[1.1183490e-17, 2.4169731e-13, 1.1497385e-14, ..., 1.0000000e+00,\n",
       "        7.1334335e-18, 3.8190152e-11],\n",
       "       [6.4308965e-16, 2.9103858e-10, 1.0000000e+00, ..., 2.1422079e-15,\n",
       "        5.0717153e-17, 4.1956530e-20],\n",
       "       [1.1536797e-13, 9.9999976e-01, 4.3379914e-10, ..., 1.1098984e-08,\n",
       "        1.0490719e-09, 9.9111891e-12],\n",
       "       ...,\n",
       "       [7.8183973e-24, 4.8154243e-13, 3.9990824e-18, ..., 1.7102552e-14,\n",
       "        3.8692336e-14, 1.5045167e-12],\n",
       "       [2.4003101e-17, 8.5257268e-17, 1.0535857e-17, ..., 8.1148489e-17,\n",
       "        6.0166125e-09, 2.4834327e-14],\n",
       "       [6.1066818e-11, 3.8413842e-15, 6.0648762e-13, ..., 2.5462060e-23,\n",
       "        2.2826478e-12, 3.3113776e-16]], dtype=float32)"
      ]
     },
     "execution_count": 6,
     "metadata": {},
     "output_type": "execute_result"
    }
   ],
   "source": [
    "model.predict(X_test)"
   ]
  },
  {
   "cell_type": "code",
   "execution_count": 7,
   "id": "72b4aa62",
   "metadata": {},
   "outputs": [
    {
     "data": {
      "text/plain": [
       "array([7, 2, 1, ..., 4, 5, 6], dtype=int64)"
      ]
     },
     "execution_count": 7,
     "metadata": {},
     "output_type": "execute_result"
    }
   ],
   "source": [
    "model.predict_classes(X_test)"
   ]
  },
  {
   "cell_type": "code",
   "execution_count": 8,
   "id": "6253d2fd",
   "metadata": {},
   "outputs": [
    {
     "data": {
      "image/png": "[encoded data removed]",
      "text/plain": [
       "<Figure size 432x288 with 1 Axes>"
      ]
     },
     "metadata": {
      "needs_background": "light"
     },
     "output_type": "display_data"
    }
   ],
   "source": [
    "plt.imshow(X_test[0], cmap='Greys')\n",
    "plt.show()"
   ]
  },
  {
   "cell_type": "code",
   "execution_count": 9,
   "id": "3d2a82aa",
   "metadata": {},
   "outputs": [
    {
     "data": {
      "text/plain": [
       "(10000, 28, 28, 1)"
      ]
     },
     "execution_count": 9,
     "metadata": {},
     "output_type": "execute_result"
    }
   ],
   "source": [
    "X_test.shape"
   ]
  },
  {
   "cell_type": "code",
   "execution_count": 10,
   "id": "076cf3cb",
   "metadata": {},
   "outputs": [
    {
     "data": {
      "text/plain": [
       "(28, 28, 1)"
      ]
     },
     "execution_count": 10,
     "metadata": {},
     "output_type": "execute_result"
    }
   ],
   "source": [
    "X_test[0].shape"
   ]
  },
  {
   "cell_type": "code",
   "execution_count": 11,
   "id": "0c570ff5",
   "metadata": {},
   "outputs": [],
   "source": [
    "sample = X_test[0].reshape(1,28,28,1)"
   ]
  },
  {
   "cell_type": "code",
   "execution_count": 12,
   "id": "fce9bc7c",
   "metadata": {},
   "outputs": [
    {
     "data": {
      "text/plain": [
       "(1, 28, 28, 1)"
      ]
     },
     "execution_count": 12,
     "metadata": {},
     "output_type": "execute_result"
    }
   ],
   "source": [
    "sample.shape"
   ]
  },
  {
   "cell_type": "code",
   "execution_count": 13,
   "id": "683510a2",
   "metadata": {},
   "outputs": [
    {
     "data": {
      "text/plain": [
       "array([7], dtype=int64)"
      ]
     },
     "execution_count": 13,
     "metadata": {},
     "output_type": "execute_result"
    }
   ],
   "source": [
    "model.predict_classes(sample)"
   ]
  },
  {
   "cell_type": "code",
   "execution_count": 14,
   "id": "af979b36",
   "metadata": {},
   "outputs": [
    {
     "data": {
      "image/png": "[encoded data removed]",
      "text/plain": [
       "<Figure size 432x288 with 1 Axes>"
      ]
     },
     "metadata": {
      "needs_background": "light"
     },
     "output_type": "display_data"
    }
   ],
   "source": [
    "img = cv2.imread('./cnnapp/number1.jpg',0)\n",
    "img2 = 255 - img.copy()\n",
    "plt.imshow(img2, cmap='Greys')\n",
    "plt.show()"
   ]
  },
  {
   "cell_type": "code",
   "execution_count": 15,
   "id": "6fb55be5",
   "metadata": {},
   "outputs": [
    {
     "data": {
      "text/plain": [
       "(21, 28)"
      ]
     },
     "execution_count": 15,
     "metadata": {},
     "output_type": "execute_result"
    }
   ],
   "source": [
    "img2.shape"
   ]
  },
  {
   "cell_type": "code",
   "execution_count": 16,
   "id": "ed0fa3a2",
   "metadata": {},
   "outputs": [
    {
     "data": {
      "text/plain": [
       "(28, 28, 1)"
      ]
     },
     "execution_count": 16,
     "metadata": {},
     "output_type": "execute_result"
    }
   ],
   "source": [
    "X_test[0].shape"
   ]
  },
  {
   "cell_type": "code",
   "execution_count": 17,
   "id": "a13c9aed",
   "metadata": {},
   "outputs": [],
   "source": [
    "#img3 = cv2.resize(255-img2, (28, 28))"
   ]
  },
  {
   "cell_type": "code",
   "execution_count": 18,
   "id": "359d9002",
   "metadata": {},
   "outputs": [],
   "source": [
    "img4 = img3.reshape(1, 28, 28, 1)"
   ]
  },
  {
   "cell_type": "code",
   "execution_count": 19,
   "id": "a23b6af7",
   "metadata": {},
   "outputs": [
    {
     "data": {
      "text/plain": [
       "array([2], dtype=int64)"
      ]
     },
     "execution_count": 19,
     "metadata": {},
     "output_type": "execute_result"
    }
   ],
   "source": [
    "model.predict_classes(img4)"
   ]
  },
  {
   "cell_type": "code",
   "execution_count": 20,
   "id": "c4bbe999",
   "metadata": {},
   "outputs": [
    {
     "data": {
      "image/png": "[encoded data removed]",
      "text/plain": [
       "<Figure size 432x288 with 1 Axes>"
      ]
     },
     "metadata": {
      "needs_background": "light"
     },
     "output_type": "display_data"
    }
   ],
   "source": [
    "img = cv2.imread('./cnnapp/number3.jpg',0)\n",
    "img2 = 255 -img.copy()\n",
    "plt.imshow(img2, cmap='Greys')\n",
    "plt.show()"
   ]
  },
  {
   "cell_type": "code",
   "execution_count": 21,
   "id": "91ed9c77",
   "metadata": {},
   "outputs": [],
   "source": [
    "img3 = cv2.resize(255-img2, (28, 28))"
   ]
  },
  {
   "cell_type": "code",
   "execution_count": 22,
   "id": "f3b292f1",
   "metadata": {},
   "outputs": [],
   "source": [
    "img4 = img3.reshape(1, 28, 28, 1) / 255"
   ]
  },
  {
   "cell_type": "code",
   "execution_count": 23,
   "id": "ef9a49fe",
   "metadata": {},
   "outputs": [
    {
     "data": {
      "text/plain": [
       "array([8], dtype=int64)"
      ]
     },
     "execution_count": 23,
     "metadata": {},
     "output_type": "execute_result"
    }
   ],
   "source": [
    "model.predict_classes(img4)"
   ]
  },
  {
   "cell_type": "code",
   "execution_count": 24,
   "id": "83db0402",
   "metadata": {},
   "outputs": [
    {
     "data": {
      "image/png": "[encoded data removed]",
      "text/plain": [
       "<Figure size 432x288 with 1 Axes>"
      ]
     },
     "metadata": {
      "needs_background": "light"
     },
     "output_type": "display_data"
    }
   ],
   "source": [
    "img = cv2.imread('./cnnapp/number4.jpg',0)\n",
    "img2 = 255 -img.copy()\n",
    "plt.imshow(img2, cmap='Greys')\n",
    "plt.show()"
   ]
  },
  {
   "cell_type": "code",
   "execution_count": 25,
   "id": "e6f1ec39",
   "metadata": {},
   "outputs": [],
   "source": [
    "img3 = img2.reshape(1, 28, 28, 1) / 255"
   ]
  },
  {
   "cell_type": "code",
   "execution_count": 26,
   "id": "a7ac7420",
   "metadata": {},
   "outputs": [
    {
     "data": {
      "text/plain": [
       "array([5], dtype=int64)"
      ]
     },
     "execution_count": 26,
     "metadata": {},
     "output_type": "execute_result"
    }
   ],
   "source": [
    "model.predict_classes(img3)"
   ]
  },
  {
   "cell_type": "code",
   "execution_count": null,
   "id": "14424437",
   "metadata": {},
   "outputs": [],
   "source": []
  }
 ],
 "metadata": {
  "kernelspec": {
   "display_name": "Python 3",
   "language": "python",
   "name": "python3"
  },
  "language_info": {
   "codemirror_mode": {
    "name": "ipython",
    "version": 3
   },
   "file_extension": ".py",
   "mimetype": "text/x-python",
   "name": "python",
   "nbconvert_exporter": "python",
   "pygments_lexer": "ipython3",
   "version": "3.7.10"
  }
 },
 "nbformat": 4,
 "nbformat_minor": 5
}
