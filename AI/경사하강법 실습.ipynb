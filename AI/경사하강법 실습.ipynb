{
 "cells": [
  {
   "cell_type": "code",
   "execution_count": 1,
   "metadata": {},
   "outputs": [],
   "source": [
    "import numpy as np\n",
    "import pandas as pd\n",
    "import matplotlib.pyplot as plt"
   ]
  },
  {
   "cell_type": "code",
   "execution_count": 2,
   "metadata": {},
   "outputs": [],
   "source": [
    "data = ([2,81], [4,93], [6,91], [8,97])\n",
    "x = [2, 4, 6, 8]\n",
    "y = [i[1] for i in data]"
   ]
  },
  {
   "cell_type": "code",
   "execution_count": 3,
   "metadata": {},
   "outputs": [
    {
     "data": {
      "image/png": "[encoded data removed]",
      "text/plain": [
       "<Figure size 648x216 with 1 Axes>"
      ]
     },
     "metadata": {
      "needs_background": "light"
     },
     "output_type": "display_data"
    }
   ],
   "source": [
    "plt.figure(figsize=(9,3))\n",
    "plt.scatter(x,y)\n",
    "plt.show()"
   ]
  },
  {
   "cell_type": "code",
   "execution_count": 4,
   "metadata": {},
   "outputs": [],
   "source": [
    "x_data = np.array(x)\n",
    "y_data = np.array(y)"
   ]
  },
  {
   "cell_type": "code",
   "execution_count": 5,
   "metadata": {},
   "outputs": [],
   "source": [
    "a = 5\n",
    "b = 76"
   ]
  },
  {
   "cell_type": "code",
   "execution_count": 6,
   "metadata": {},
   "outputs": [],
   "source": [
    "lr = 0.01"
   ]
  },
  {
   "cell_type": "code",
   "execution_count": 7,
   "metadata": {},
   "outputs": [],
   "source": [
    "epoch = 8000"
   ]
  },
  {
   "cell_type": "code",
   "execution_count": 8,
   "metadata": {},
   "outputs": [
    {
     "name": "stdout",
     "output_type": "stream",
     "text": [
      "epoch=0, 기울기=4.3400, 절편=75.8950\n",
      "epoch=100, 기울기=2.7777, 절편=76.1495\n",
      "epoch=200, 기울기=2.7061, 절편=76.5765\n",
      "epoch=300, 기울기=2.6453, 절편=76.9395\n",
      "epoch=400, 기울기=2.5936, 절편=77.2481\n",
      "epoch=500, 기울기=2.5496, 절편=77.5105\n",
      "epoch=600, 기울기=2.5122, 절편=77.7336\n",
      "epoch=700, 기울기=2.4804, 절편=77.9233\n",
      "epoch=800, 기울기=2.4534, 절편=78.0846\n",
      "epoch=900, 기울기=2.4304, 절편=78.2217\n",
      "epoch=1000, 기울기=2.4109, 절편=78.3383\n",
      "epoch=1100, 기울기=2.3943, 절편=78.4374\n",
      "epoch=1200, 기울기=2.3802, 절편=78.5217\n",
      "epoch=1300, 기울기=2.3681, 절편=78.5933\n",
      "epoch=1400, 기울기=2.3579, 절편=78.6542\n",
      "epoch=1500, 기울기=2.3493, 절편=78.7060\n",
      "epoch=1600, 기울기=2.3419, 절편=78.7501\n",
      "epoch=1700, 기울기=2.3356, 절편=78.7875\n",
      "epoch=1800, 기울기=2.3303, 절편=78.8193\n",
      "epoch=1900, 기울기=2.3257, 절편=78.8464\n",
      "epoch=2000, 기울기=2.3219, 절편=78.8694\n",
      "epoch=2100, 기울기=2.3186, 절편=78.8890\n",
      "epoch=2200, 기울기=2.3158, 절편=78.9056\n",
      "epoch=2300, 기울기=2.3134, 절편=78.9197\n",
      "epoch=2400, 기울기=2.3114, 절편=78.9318\n",
      "epoch=2500, 기울기=2.3097, 절편=78.9420\n",
      "epoch=2600, 기울기=2.3083, 절편=78.9507\n",
      "epoch=2700, 기울기=2.3070, 절편=78.9581\n",
      "epoch=2800, 기울기=2.3060, 절편=78.9643\n",
      "epoch=2900, 기울기=2.3051, 절편=78.9697\n",
      "epoch=3000, 기울기=2.3043, 절편=78.9742\n",
      "epoch=3100, 기울기=2.3037, 절편=78.9781\n",
      "epoch=3200, 기울기=2.3031, 절편=78.9814\n",
      "epoch=3300, 기울기=2.3027, 절편=78.9842\n",
      "epoch=3400, 기울기=2.3023, 절편=78.9865\n",
      "epoch=3500, 기울기=2.3019, 절편=78.9885\n",
      "epoch=3600, 기울기=2.3016, 절편=78.9903\n",
      "epoch=3700, 기울기=2.3014, 절편=78.9917\n",
      "epoch=3800, 기울기=2.3012, 절편=78.9930\n",
      "epoch=3900, 기울기=2.3010, 절편=78.9940\n",
      "epoch=4000, 기울기=2.3009, 절편=78.9949\n",
      "epoch=4100, 기울기=2.3007, 절편=78.9957\n",
      "epoch=4200, 기울기=2.3006, 절편=78.9963\n",
      "epoch=4300, 기울기=2.3005, 절편=78.9969\n",
      "epoch=4400, 기울기=2.3004, 절편=78.9973\n",
      "epoch=4500, 기울기=2.3004, 절편=78.9977\n",
      "epoch=4600, 기울기=2.3003, 절편=78.9981\n",
      "epoch=4700, 기울기=2.3003, 절편=78.9984\n",
      "epoch=4800, 기울기=2.3002, 절편=78.9986\n",
      "epoch=4900, 기울기=2.3002, 절편=78.9988\n",
      "epoch=5000, 기울기=2.3002, 절편=78.9990\n",
      "epoch=5100, 기울기=2.3001, 절편=78.9991\n",
      "epoch=5200, 기울기=2.3001, 절편=78.9993\n",
      "epoch=5300, 기울기=2.3001, 절편=78.9994\n",
      "epoch=5400, 기울기=2.3001, 절편=78.9995\n",
      "epoch=5500, 기울기=2.3001, 절편=78.9996\n",
      "epoch=5600, 기울기=2.3001, 절편=78.9996\n",
      "epoch=5700, 기울기=2.3001, 절편=78.9997\n",
      "epoch=5800, 기울기=2.3000, 절편=78.9997\n",
      "epoch=5900, 기울기=2.3000, 절편=78.9998\n",
      "epoch=6000, 기울기=2.3000, 절편=78.9998\n",
      "epoch=6100, 기울기=2.3000, 절편=78.9998\n",
      "epoch=6200, 기울기=2.3000, 절편=78.9999\n",
      "epoch=6300, 기울기=2.3000, 절편=78.9999\n",
      "epoch=6400, 기울기=2.3000, 절편=78.9999\n",
      "epoch=6500, 기울기=2.3000, 절편=78.9999\n",
      "epoch=6600, 기울기=2.3000, 절편=78.9999\n",
      "epoch=6700, 기울기=2.3000, 절편=78.9999\n",
      "epoch=6800, 기울기=2.3000, 절편=78.9999\n",
      "epoch=6900, 기울기=2.3000, 절편=79.0000\n",
      "epoch=7000, 기울기=2.3000, 절편=79.0000\n",
      "epoch=7100, 기울기=2.3000, 절편=79.0000\n",
      "epoch=7200, 기울기=2.3000, 절편=79.0000\n",
      "epoch=7300, 기울기=2.3000, 절편=79.0000\n",
      "epoch=7400, 기울기=2.3000, 절편=79.0000\n",
      "epoch=7500, 기울기=2.3000, 절편=79.0000\n",
      "epoch=7600, 기울기=2.3000, 절편=79.0000\n",
      "epoch=7700, 기울기=2.3000, 절편=79.0000\n",
      "epoch=7800, 기울기=2.3000, 절편=79.0000\n",
      "epoch=7900, 기울기=2.3000, 절편=79.0000\n"
     ]
    }
   ],
   "source": [
    "for i in range(epoch):\n",
    "    y_hat = a * x_data + b\n",
    "    error = y_data - y_hat\n",
    "    a_diff = -(1/len(x_data)) * sum(x_data * (error))\n",
    "    b_diff = -(1/len(x_data)) * sum(error)\n",
    "    a = a - (lr * a_diff)\n",
    "    b = b - (lr * b_diff)\n",
    "    if i % 100 == 0:\n",
    "        print(\"epoch=%.f, 기울기=%.04f, 절편=%.04f\" % (i, a, b))\n",
    "    "
   ]
  },
  {
   "cell_type": "code",
   "execution_count": null,
   "metadata": {},
   "outputs": [],
   "source": []
  }
 ],
 "metadata": {
  "kernelspec": {
   "display_name": "Python 3",
   "language": "python",
   "name": "python3"
  },
  "language_info": {
   "codemirror_mode": {
    "name": "ipython",
    "version": 3
   },
   "file_extension": ".py",
   "mimetype": "text/x-python",
   "name": "python",
   "nbconvert_exporter": "python",
   "pygments_lexer": "ipython3",
   "version": "3.7.10"
  }
 },
 "nbformat": 4,
 "nbformat_minor": 4
}
